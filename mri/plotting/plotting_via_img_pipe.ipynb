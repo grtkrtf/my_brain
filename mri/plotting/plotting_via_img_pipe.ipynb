{
 "cells": [
  {
   "cell_type": "markdown",
   "metadata": {},
   "source": [
    "This notebook plots my brain via `img_pipe` a software package developed in the Chang Lab at UCSF. You can read more about it here: https://github.com/ChangLabUcsf/img_pipe"
   ]
  },
  {
   "cell_type": "markdown",
   "metadata": {},
   "source": [
    "## You must be in a conda env for img_pipe to run this notebook successfully.\n",
    "The above URL to the ChangLab github has instructions on how to do this. If you already have `img_pipe` installed you just need to run `conda activate img_pipe_py3` in your Terminal before running this notebook."
   ]
  },
  {
   "cell_type": "code",
   "execution_count": null,
   "metadata": {},
   "outputs": [],
   "source": [
    "# this is broken and i don't know why\n",
    "from img_pipe import img_pipe"
   ]
  },
  {
   "cell_type": "markdown",
   "metadata": {},
   "source": [
    "dump of the kernel fuckery:\n",
    "```\n",
    "[I 13:06:47.762 NotebookApp] KernelRestarter: restarting kernel (4/5), new random ports\n",
    "Traceback (most recent call last):\n",
    "  File \"/Users/glk455/.conda/envs/img_pipe_py3/lib/python3.5/runpy.py\", line 193, in _run_module_as_main\n",
    "    \"__main__\", mod_spec)\n",
    "  File \"/Users/glk455/.conda/envs/img_pipe_py3/lib/python3.5/runpy.py\", line 85, in _run_code\n",
    "    exec(code, run_globals)\n",
    "  File \"/Users/glk455/.conda/envs/img_pipe_py3/lib/python3.5/site-packages/ipykernel_launcher.py\", line 15, in <module>\n",
    "    from ipykernel import kernelapp as app\n",
    "  File \"/Users/glk455/.conda/envs/img_pipe_py3/lib/python3.5/site-packages/ipykernel/__init__.py\", line 2, in <module>\n",
    "    from .connect import *\n",
    "  File \"/Users/glk455/.conda/envs/img_pipe_py3/lib/python3.5/site-packages/ipykernel/connect.py\", line 13, in <module>\n",
    "    from IPython.core.profiledir import ProfileDir\n",
    "  File \"/Users/glk455/.conda/envs/img_pipe_py3/lib/python3.5/site-packages/IPython/__init__.py\", line 55, in <module>\n",
    "    from .terminal.embed import embed\n",
    "  File \"/Users/glk455/.conda/envs/img_pipe_py3/lib/python3.5/site-packages/IPython/terminal/embed.py\", line 16, in <module>\n",
    "    from IPython.terminal.interactiveshell import TerminalInteractiveShell\n",
    "  File \"/Users/glk455/.conda/envs/img_pipe_py3/lib/python3.5/site-packages/IPython/terminal/interactiveshell.py\", line 22, in <module>\n",
    "    from prompt_toolkit.shortcuts import create_prompt_application, create_eventloop, create_prompt_layout, create_output\n",
    "ImportError: cannot import name 'create_prompt_application'\n",
    "[W 13:06:50.771 NotebookApp] KernelRestarter: restart failed\n",
    "[W 13:06:50.771 NotebookApp] Kernel 9a99e5b9-e2c5-4fee-933f-7d8b84351f10 died, removing from map.\n",
    "```"
   ]
  }
 ],
 "metadata": {
  "kernelspec": {
   "display_name": "Python 3",
   "language": "python",
   "name": "python3"
  }
 },
 "nbformat": 4,
 "nbformat_minor": 2
}
